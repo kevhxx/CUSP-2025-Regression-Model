{
 "cells": [
  {
   "cell_type": "code",
   "execution_count": 12,
   "metadata": {},
   "outputs": [],
   "source": [
    "import xgboost as xgb\n",
    "import polars as pl\n",
    "import numpy as np\n",
    "from sklearn.model_selection import train_test_split\n",
    "from sklearn.metrics import accuracy_score, mean_squared_error\n",
    "import matplotlib.pyplot as plt\n",
    "from xgboost import plot_tree, DMatrix\n",
    "import matplotlib.pyplot as plt\n",
    "import graphviz\n",
    "from xgboost import to_graphviz\n",
    "import polars as pl\n",
    "import numpy as np\n",
    "import xgboost as xgb\n",
    "import matplotlib.pyplot as plt\n",
    "from sklearn.metrics import mean_squared_error, r2_score\n",
    "from sklearn.model_selection import train_test_split\n",
    "from xgboost import DMatrix\n",
    "import os\n",
    "import xgboost\n",
    "from graphviz import Source\n",
    "import subprocess\n",
    "import logging"
   ]
  },
  {
   "cell_type": "code",
   "execution_count": 13,
   "metadata": {},
   "outputs": [
    {
     "data": {
      "text/html": [
       "<div><style>\n",
       ".dataframe > thead > tr,\n",
       ".dataframe > tbody > tr {\n",
       "  text-align: right;\n",
       "  white-space: pre-wrap;\n",
       "}\n",
       "</style>\n",
       "<small>shape: (4_659, 24)</small><table border=\"1\" class=\"dataframe\"><thead><tr><th>LSOA</th><th>Mean_Household_Income</th><th>Energy Efficiency</th><th>Fuel Poverty</th><th>No central heating</th><th>Gas </th><th>Electric</th><th>Oil </th><th>Solid fuel</th><th>Other including communal and renewable </th><th>Two or more types </th><th>1 bedroom</th><th>2 bedrooms</th><th>3 bedrooms</th><th>4 or more bedrooms</th><th>Owned outright</th><th>Owned with a mortgage or loan</th><th>Shared ownership </th><th>Rented from Local Authority</th><th>Other social rented</th><th>Private landlord or letting agency</th><th>Other private rented</th><th>Rent free</th><th>Year_built</th></tr><tr><td>str</td><td>i64</td><td>f64</td><td>f64</td><td>i64</td><td>i64</td><td>i64</td><td>i64</td><td>i64</td><td>i64</td><td>i64</td><td>i64</td><td>i64</td><td>i64</td><td>i64</td><td>i64</td><td>i64</td><td>i64</td><td>i64</td><td>i64</td><td>i64</td><td>i64</td><td>i64</td><td>i64</td></tr></thead><tbody><tr><td>&quot;E01000001&quot;</td><td>74846</td><td>57.87683</td><td>4.2</td><td>10</td><td>82</td><td>572</td><td>10</td><td>0</td><td>189</td><td>13</td><td>416</td><td>250</td><td>155</td><td>43</td><td>355</td><td>178</td><td>3</td><td>33</td><td>8</td><td>247</td><td>17</td><td>35</td><td>1972</td></tr><tr><td>&quot;E01000002&quot;</td><td>73325</td><td>65.359492</td><td>2.1</td><td>15</td><td>40</td><td>538</td><td>6</td><td>0</td><td>220</td><td>11</td><td>402</td><td>274</td><td>87</td><td>65</td><td>314</td><td>213</td><td>8</td><td>44</td><td>4</td><td>206</td><td>13</td><td>28</td><td>1972</td></tr><tr><td>&quot;E01000003&quot;</td><td>44130</td><td>61.372987</td><td>5.5</td><td>23</td><td>498</td><td>209</td><td>1</td><td>0</td><td>69</td><td>17</td><td>501</td><td>232</td><td>46</td><td>3</td><td>184</td><td>143</td><td>1</td><td>239</td><td>56</td><td>166</td><td>11</td><td>17</td><td>1972</td></tr><tr><td>&quot;E01000005&quot;</td><td>30781</td><td>66.293588</td><td>7.9</td><td>9</td><td>225</td><td>98</td><td>25</td><td>0</td><td>88</td><td>22</td><td>241</td><td>130</td><td>79</td><td>7</td><td>24</td><td>22</td><td>0</td><td>133</td><td>179</td><td>92</td><td>9</td><td>8</td><td>1982</td></tr><tr><td>&quot;E01032739&quot;</td><td>68022</td><td>57.052271</td><td>16.7</td><td>54</td><td>250</td><td>335</td><td>3</td><td>0</td><td>25</td><td>9</td><td>353</td><td>256</td><td>34</td><td>24</td><td>104</td><td>88</td><td>1</td><td>5</td><td>6</td><td>358</td><td>29</td><td>85</td><td>1900</td></tr><tr><td>&hellip;</td><td>&hellip;</td><td>&hellip;</td><td>&hellip;</td><td>&hellip;</td><td>&hellip;</td><td>&hellip;</td><td>&hellip;</td><td>&hellip;</td><td>&hellip;</td><td>&hellip;</td><td>&hellip;</td><td>&hellip;</td><td>&hellip;</td><td>&hellip;</td><td>&hellip;</td><td>&hellip;</td><td>&hellip;</td><td>&hellip;</td><td>&hellip;</td><td>&hellip;</td><td>&hellip;</td><td>&hellip;</td><td>&hellip;</td></tr><tr><td>&quot;E01033601&quot;</td><td>37445</td><td>68.637239</td><td>4.6</td><td>10</td><td>415</td><td>98</td><td>1</td><td>0</td><td>37</td><td>28</td><td>172</td><td>205</td><td>129</td><td>76</td><td>57</td><td>64</td><td>5</td><td>233</td><td>148</td><td>70</td><td>5</td><td>7</td><td>1982</td></tr><tr><td>&quot;E01033602&quot;</td><td>33823</td><td>68.552885</td><td>4.5</td><td>34</td><td>455</td><td>49</td><td>1</td><td>1</td><td>69</td><td>36</td><td>251</td><td>200</td><td>151</td><td>39</td><td>48</td><td>44</td><td>9</td><td>263</td><td>148</td><td>121</td><td>5</td><td>7</td><td>1972</td></tr><tr><td>&quot;E01033603&quot;</td><td>48140</td><td>65.132701</td><td>5.1</td><td>25</td><td>430</td><td>100</td><td>1</td><td>0</td><td>14</td><td>30</td><td>238</td><td>244</td><td>89</td><td>27</td><td>78</td><td>75</td><td>6</td><td>118</td><td>95</td><td>209</td><td>8</td><td>11</td><td>1900</td></tr><tr><td>&quot;E01033604&quot;</td><td>37727</td><td>62.879336</td><td>4.5</td><td>35</td><td>466</td><td>70</td><td>1</td><td>0</td><td>17</td><td>31</td><td>327</td><td>200</td><td>72</td><td>18</td><td>33</td><td>24</td><td>3</td><td>25</td><td>149</td><td>360</td><td>12</td><td>14</td><td>1900</td></tr><tr><td>&quot;E01033605&quot;</td><td>34413</td><td>63.583607</td><td>4.4</td><td>30</td><td>416</td><td>158</td><td>11</td><td>1</td><td>164</td><td>35</td><td>276</td><td>294</td><td>204</td><td>33</td><td>97</td><td>99</td><td>8</td><td>353</td><td>62</td><td>177</td><td>3</td><td>16</td><td>1939</td></tr></tbody></table></div>"
      ],
      "text/plain": [
       "shape: (4_659, 24)\n",
       "┌────────────┬────────────┬────────────┬────────────┬───┬───────────┬───────────┬──────┬───────────┐\n",
       "│ LSOA       ┆ Mean_House ┆ Energy     ┆ Fuel       ┆ … ┆ Private   ┆ Other     ┆ Rent ┆ Year_buil │\n",
       "│ ---        ┆ hold_Incom ┆ Efficiency ┆ Poverty    ┆   ┆ landlord  ┆ private   ┆ free ┆ t         │\n",
       "│ str        ┆ e          ┆ ---        ┆ ---        ┆   ┆ or        ┆ rented    ┆ ---  ┆ ---       │\n",
       "│            ┆ ---        ┆ f64        ┆ f64        ┆   ┆ letting   ┆ ---       ┆ i64  ┆ i64       │\n",
       "│            ┆ i64        ┆            ┆            ┆   ┆ ag…       ┆ i64       ┆      ┆           │\n",
       "│            ┆            ┆            ┆            ┆   ┆ ---       ┆           ┆      ┆           │\n",
       "│            ┆            ┆            ┆            ┆   ┆ i64       ┆           ┆      ┆           │\n",
       "╞════════════╪════════════╪════════════╪════════════╪═══╪═══════════╪═══════════╪══════╪═══════════╡\n",
       "│ E01000001  ┆ 74846      ┆ 57.87683   ┆ 4.2        ┆ … ┆ 247       ┆ 17        ┆ 35   ┆ 1972      │\n",
       "│ E01000002  ┆ 73325      ┆ 65.359492  ┆ 2.1        ┆ … ┆ 206       ┆ 13        ┆ 28   ┆ 1972      │\n",
       "│ E01000003  ┆ 44130      ┆ 61.372987  ┆ 5.5        ┆ … ┆ 166       ┆ 11        ┆ 17   ┆ 1972      │\n",
       "│ E01000005  ┆ 30781      ┆ 66.293588  ┆ 7.9        ┆ … ┆ 92        ┆ 9         ┆ 8    ┆ 1982      │\n",
       "│ E01032739  ┆ 68022      ┆ 57.052271  ┆ 16.7       ┆ … ┆ 358       ┆ 29        ┆ 85   ┆ 1900      │\n",
       "│ …          ┆ …          ┆ …          ┆ …          ┆ … ┆ …         ┆ …         ┆ …    ┆ …         │\n",
       "│ E01033601  ┆ 37445      ┆ 68.637239  ┆ 4.6        ┆ … ┆ 70        ┆ 5         ┆ 7    ┆ 1982      │\n",
       "│ E01033602  ┆ 33823      ┆ 68.552885  ┆ 4.5        ┆ … ┆ 121       ┆ 5         ┆ 7    ┆ 1972      │\n",
       "│ E01033603  ┆ 48140      ┆ 65.132701  ┆ 5.1        ┆ … ┆ 209       ┆ 8         ┆ 11   ┆ 1900      │\n",
       "│ E01033604  ┆ 37727      ┆ 62.879336  ┆ 4.5        ┆ … ┆ 360       ┆ 12        ┆ 14   ┆ 1900      │\n",
       "│ E01033605  ┆ 34413      ┆ 63.583607  ┆ 4.4        ┆ … ┆ 177       ┆ 3         ┆ 16   ┆ 1939      │\n",
       "└────────────┴────────────┴────────────┴────────────┴───┴───────────┴───────────┴──────┴───────────┘"
      ]
     },
     "execution_count": 13,
     "metadata": {},
     "output_type": "execute_result"
    }
   ],
   "source": [
    "df = pl.read_csv(\"all_final_data_2011.csv\")\n",
    "df"
   ]
  },
  {
   "cell_type": "markdown",
   "metadata": {},
   "source": [
    "**Load all the data in the heatings dataset into numpy arrays structure**"
   ]
  },
  {
   "cell_type": "code",
   "execution_count": 14,
   "metadata": {},
   "outputs": [],
   "source": [
    "def load_data(file_path: str, feature_columns: list, target_column: str):\n",
    "    \"\"\"\n",
    "    Load the dataset, normalize column names, and ensure all specified feature\n",
    "    and target columns exist.\n",
    "    \"\"\"\n",
    "    import polars as pl\n",
    "    \n",
    "    # Load data\n",
    "    data = pl.read_csv(file_path)\n",
    "    \n",
    "    # Normalize DataFrame columns by stripping spaces and converting to lowercase\n",
    "    normalized_columns = [col.strip().lower() for col in data.columns]\n",
    "    data.columns = normalized_columns  # Update DataFrame columns\n",
    "    \n",
    "    # Normalize input feature and target column names\n",
    "    normalized_feature_columns = [col.strip().lower() for col in feature_columns]\n",
    "    normalized_target_column = target_column.strip().lower()\n",
    "    \n",
    "    # Debugging: Print normalized column names\n",
    "    print(f\"Normalized Dataset Columns: {data.columns}\")\n",
    "    \n",
    "    # Verify feature and target columns\n",
    "    missing_features = [col for col in normalized_feature_columns if col not in data.columns]\n",
    "    if missing_features:\n",
    "        raise ValueError(f\"Missing feature columns in the dataset: {missing_features}\")\n",
    "\n",
    "    if normalized_target_column not in data.columns:\n",
    "        raise ValueError(f\"Missing target column in the dataset: {normalized_target_column}\")\n",
    "\n",
    "    # Select features and target based on normalized column names\n",
    "    X = data.select(normalized_feature_columns)\n",
    "    y = data.select(normalized_target_column)\n",
    "    \n",
    "    return X.to_numpy(), y.to_numpy().flatten()"
   ]
  },
  {
   "cell_type": "markdown",
   "metadata": {},
   "source": [
    "**Loading the training data for the XGBoost Training**"
   ]
  },
  {
   "cell_type": "code",
   "execution_count": 15,
   "metadata": {},
   "outputs": [],
   "source": [
    "def train_xgb_model_with_features(X_train, y_train, X_test, y_test, feature_columns):\n",
    "    \"\"\"\n",
    "    Train an XGBoost model using the provided train/test data and compute performance metrics.\n",
    "\n",
    "    Parameters:\n",
    "        X_train (numpy.ndarray): Training features.\n",
    "        y_train (numpy.ndarray): Training target values.\n",
    "        X_test (numpy.ndarray): Testing features.\n",
    "        y_test (numpy.ndarray): Testing target values.\n",
    "        feature_columns (list): List of feature names.\n",
    "\n",
    "    Returns:\n",
    "        model: Trained XGBoost model.\n",
    "        dict: Performance metrics.\n",
    "    \"\"\"\n",
    "    import xgboost as xgb\n",
    "    from sklearn.metrics import mean_squared_error, r2_score\n",
    "\n",
    "    try:\n",
    "        # Create DMatrix for XGBoost\n",
    "        dtrain = xgb.DMatrix(X_train, label=y_train, feature_names=feature_columns)\n",
    "        dtest = xgb.DMatrix(X_test, label=y_test, feature_names=feature_columns)\n",
    "        \n",
    "        # Define XGBoost parameters\n",
    "        params = {\n",
    "            \"objective\": \"reg:squarederror\",  # Use squared error for regression\n",
    "            \"eval_metric\": \"rmse\",           # Root mean squared error as metric\n",
    "            \"max_depth\": 6,                  # Limit tree depth\n",
    "            \"eta\": 0.1,                      # Learning rate\n",
    "            \"verbosity\": 1,                  # Verbosity of logging\n",
    "        }\n",
    "\n",
    "        # Train the model\n",
    "        evals = [(dtrain, \"train\"), (dtest, \"test\")]\n",
    "        model = xgb.train(params, dtrain, num_boost_round=200, evals=evals, early_stopping_rounds=10)\n",
    "\n",
    "        # Predict on test data\n",
    "        y_pred = model.predict(dtest)\n",
    "\n",
    "        # Compute performance metrics\n",
    "        mse = mean_squared_error(y_test, y_pred)\n",
    "        rmse = mse ** 0.5\n",
    "        r2 = r2_score(y_test, y_pred)\n",
    "\n",
    "        performance_metrics = {\n",
    "            \"mse\": mse,\n",
    "            \"rmse\": rmse,\n",
    "            \"r2_score\": r2\n",
    "        }\n",
    "\n",
    "        return model, performance_metrics\n",
    "    except Exception as e:\n",
    "        raise RuntimeError(f\"Error while training model: {e}\")"
   ]
  },
  {
   "cell_type": "markdown",
   "metadata": {},
   "source": [
    "**Main Operation**"
   ]
  },
  {
   "cell_type": "code",
   "execution_count": 16,
   "metadata": {},
   "outputs": [
    {
     "name": "stdout",
     "output_type": "stream",
     "text": [
      "Normalized Dataset Columns: ['lsoa', 'mean_household_income', 'energy efficiency', 'fuel poverty', 'no central heating', 'gas', 'electric', 'oil', 'solid fuel', 'other including communal and renewable', 'two or more types', '1 bedroom', '2 bedrooms', '3 bedrooms', '4 or more bedrooms', 'owned outright', 'owned with a mortgage or loan', 'shared ownership', 'rented from local authority', 'other social rented', 'private landlord or letting agency', 'other private rented', 'rent free', 'year_built']\n",
      "[0]\ttrain-rmse:4.66762\ttest-rmse:4.65021\n",
      "[1]\ttrain-rmse:4.48519\ttest-rmse:4.49826\n",
      "[2]\ttrain-rmse:4.32484\ttest-rmse:4.37005\n",
      "[3]\ttrain-rmse:4.18441\ttest-rmse:4.25298\n",
      "[4]\ttrain-rmse:4.06350\ttest-rmse:4.15465\n"
     ]
    },
    {
     "name": "stdout",
     "output_type": "stream",
     "text": [
      "[5]\ttrain-rmse:3.96222\ttest-rmse:4.07772\n",
      "[6]\ttrain-rmse:3.87074\ttest-rmse:4.01383\n",
      "[7]\ttrain-rmse:3.78462\ttest-rmse:3.95838\n",
      "[8]\ttrain-rmse:3.71310\ttest-rmse:3.91085\n",
      "[9]\ttrain-rmse:3.64912\ttest-rmse:3.87344\n",
      "[10]\ttrain-rmse:3.59419\ttest-rmse:3.83307\n",
      "[11]\ttrain-rmse:3.54422\ttest-rmse:3.80481\n",
      "[12]\ttrain-rmse:3.49651\ttest-rmse:3.77891\n",
      "[13]\ttrain-rmse:3.45495\ttest-rmse:3.75688\n",
      "[14]\ttrain-rmse:3.41604\ttest-rmse:3.73286\n",
      "[15]\ttrain-rmse:3.38447\ttest-rmse:3.71828\n",
      "[16]\ttrain-rmse:3.35695\ttest-rmse:3.70420\n",
      "[17]\ttrain-rmse:3.33094\ttest-rmse:3.68982\n",
      "[18]\ttrain-rmse:3.30901\ttest-rmse:3.68107\n",
      "[19]\ttrain-rmse:3.28338\ttest-rmse:3.67640\n",
      "[20]\ttrain-rmse:3.25721\ttest-rmse:3.67084\n",
      "[21]\ttrain-rmse:3.23405\ttest-rmse:3.66300\n",
      "[22]\ttrain-rmse:3.20824\ttest-rmse:3.65657\n",
      "[23]\ttrain-rmse:3.18746\ttest-rmse:3.65511\n",
      "[24]\ttrain-rmse:3.16773\ttest-rmse:3.64860\n",
      "[25]\ttrain-rmse:3.14765\ttest-rmse:3.64202\n",
      "[26]\ttrain-rmse:3.13072\ttest-rmse:3.63995\n",
      "[27]\ttrain-rmse:3.11283\ttest-rmse:3.63429\n",
      "[28]\ttrain-rmse:3.10051\ttest-rmse:3.63125\n",
      "[29]\ttrain-rmse:3.08687\ttest-rmse:3.62972\n",
      "[30]\ttrain-rmse:3.07499\ttest-rmse:3.62980\n",
      "[31]\ttrain-rmse:3.06149\ttest-rmse:3.62707\n",
      "[32]\ttrain-rmse:3.04701\ttest-rmse:3.63183\n",
      "[33]\ttrain-rmse:3.03858\ttest-rmse:3.63059\n",
      "[34]\ttrain-rmse:3.02918\ttest-rmse:3.63093\n",
      "[35]\ttrain-rmse:3.01911\ttest-rmse:3.62873\n",
      "[36]\ttrain-rmse:3.00766\ttest-rmse:3.62937\n",
      "[37]\ttrain-rmse:2.99830\ttest-rmse:3.63034\n",
      "[38]\ttrain-rmse:2.99134\ttest-rmse:3.63346\n",
      "[39]\ttrain-rmse:2.98461\ttest-rmse:3.63567\n",
      "[40]\ttrain-rmse:2.97086\ttest-rmse:3.63872\n",
      "[41]\ttrain-rmse:2.96494\ttest-rmse:3.64156\n",
      "Model Metrics: {'mse': 13.260984454673054, 'rmse': 3.641563462947344, 'r2_score': 0.4337762014371622}\n"
     ]
    }
   ],
   "source": [
    "# Step 1: Load dataset\n",
    "file_path = \"all_final_data_2011.csv\"  # Replace with your CSV file path\n",
    "feature_columns = ['gas', 'no central heating', 'electric', 'oil', 'solid fuel', 'other including communal and renewable', 'two or more types'] \n",
    "target_column = \"Energy Efficiency\"\n",
    "\n",
    "# Load dataset\n",
    "X, y = load_data(file_path, feature_columns, target_column)\n",
    "\n",
    "# Split train and test sets\n",
    "from sklearn.model_selection import train_test_split\n",
    "X_train, X_test, y_train, y_test = train_test_split(X, y, test_size=0.2, random_state=42)\n",
    "\n",
    "# Train XGBoost model\n",
    "model, metrics = train_xgb_model_with_features(X_train, y_train, X_test, y_test, feature_columns)\n",
    "\n",
    "# Print results\n",
    "print(f\"Model Metrics: {metrics}\")"
   ]
  },
  {
   "cell_type": "markdown",
   "metadata": {},
   "source": [
    "**Display the Results**"
   ]
  },
  {
   "cell_type": "code",
   "execution_count": 17,
   "metadata": {},
   "outputs": [],
   "source": [
    "def plot_feature_importance(model, feature_names, normalize=False):\n",
    "    \"\"\"\n",
    "    Visualize the feature importance of an XGBoost model, with optional normalization.\n",
    "    Parameters:\n",
    "    - model: Trained XGBoost model (can be XGBRegressor or XGBClassifier).\n",
    "    - feature_names: List of feature names used during training.\n",
    "    - normalize: Whether to normalize the feature importance scores so they sum to 100 (default: False).\n",
    "    \"\"\"\n",
    "    # Retrieve feature importance scores (raw counts of splits for each feature)\n",
    "    importance_dict = model.get_score(importance_type='weight')\n",
    "    \n",
    "    # Use the importance dictionary directly (keys are feature names)\n",
    "    sorted_importance = sorted(importance_dict.items(), key=lambda x: x[1], reverse=True)\n",
    "    \n",
    "    # Extract feature names and their importance scores\n",
    "    features, scores = zip(*sorted_importance)\n",
    "    \n",
    "    if normalize:\n",
    "        # Normalize scores so they sum to 100\n",
    "        total = sum(scores)\n",
    "        scores = [(score / total) * 100 for score in scores]\n",
    "    \n",
    "    # Plot the feature importances\n",
    "    plt.figure(figsize=(10, 8))\n",
    "    y_positions = np.arange(len(features))  # Define y-axis positions for the bars\n",
    "    bars = plt.barh(y_positions, scores, color=\"#2E6EFF\")\n",
    "    \n",
    "    # Add percentage labels on the right-hand side of the bars\n",
    "    for i, score in enumerate(scores):\n",
    "        plt.text(score + 0.5, i, f\"{score:.1f}%\", va=\"center\", fontsize=15, color=\"black\")\n",
    "    \n",
    "    # Reverse the order to have the most important on top\n",
    "    plt.gca().invert_yaxis()\n",
    "    \n",
    "    # Set axis labels and title with increased font size\n",
    "    plt.xlabel(\"Feature Importance (%)\" if normalize else \"Feature Importance (Weight)\", fontsize=15)\n",
    "    plt.ylabel(\"Features\", fontsize=15)\n",
    "    plt.title(\"Heating Feature Importance\", fontsize=15)\n",
    "    \n",
    "    # Adjust the x-axis scale to a maximum of 35%\n",
    "    plt.xlim(0, 35)\n",
    "    \n",
    "    # Set y-axis ticks to feature names with increased font size\n",
    "    plt.yticks(y_positions, features, fontsize=15)\n",
    "    plt.xticks(fontsize=15)  # Increase font size of x-axis tick labels\n",
    "    \n",
    "    # Show the plot\n",
    "    plt.show()"
   ]
  },
  {
   "cell_type": "code",
   "execution_count": 18,
   "metadata": {},
   "outputs": [
    {
     "data": {
      "image/png": "[encoded data removed]",
      "text/plain": [
       "<Figure size 1000x800 with 1 Axes>"
      ]
     },
     "metadata": {},
     "output_type": "display_data"
    }
   ],
   "source": [
    "plot_feature_importance(model, feature_columns, normalize=True)"
   ]
  },
  {
   "cell_type": "markdown",
   "metadata": {},
   "source": [
    "**Feature Importance Rank**"
   ]
  },
  {
   "cell_type": "code",
   "execution_count": 19,
   "metadata": {},
   "outputs": [],
   "source": [
    "def feature_importance_rate(model, feature_names):\n",
    "    \"\"\"\n",
    "    Visualize feature importance normalized to sum to 1. \n",
    "    \n",
    "    Parameters:\n",
    "    - model: Trained XGBoost model (XGBRegressor or XGBClassifier)\n",
    "    - feature_names: List of feature names used during training\n",
    "    \"\"\"\n",
    "    # Extract feature importance scores (split counts)\n",
    "    importance_dict = model.get_score(importance_type='weight')\n",
    "    \n",
    "    # Create sorted list of (feature, score) tuples\n",
    "    sorted_importance = sorted(importance_dict.items(), \n",
    "                              key=lambda x: x[1], \n",
    "                              reverse=True)\n",
    "    # Calculate the total sum of the values\n",
    "    total = sum(value for _, value in sorted_importance)\n",
    "\n",
    "    # Normalize each value by dividing it by the total sum\n",
    "    normalized_list = [(category, value / total) for category, value in sorted_importance]\n",
    "\n",
    "    return normalized_list"
   ]
  },
  {
   "cell_type": "markdown",
   "metadata": {},
   "source": [
    "**Return Overall Heating Score for Each LSOA**"
   ]
  },
  {
   "cell_type": "code",
   "execution_count": 20,
   "metadata": {},
   "outputs": [],
   "source": [
    "def calculate_weighted_score(df, feature_weights, feature_name):\n",
    "    \"\"\"\n",
    "    Calculate weighted score using Polars operations.\n",
    "\n",
    "    Args:\n",
    "        df: Polars DataFrame containing features\n",
    "        feature_weights: List of (feature_name, weight) tuples\n",
    "\n",
    "    Returns:\n",
    "        Polars DataFrame with new 'Fuel_Poverty_Score' column\n",
    "    \"\"\"\n",
    "    import polars as pl\n",
    "    import logging\n",
    "\n",
    "    # Set up logging to report any issues.\n",
    "    logging.basicConfig(level=logging.WARNING)\n",
    "\n",
    "    # Normalize DataFrame column names and feature_weights keys (to lowercase, stripped of whitespace).\n",
    "    normalized_df_columns = {col.strip().lower(): col for col in df.columns}\n",
    "    normalized_feature_weights = {key.strip().lower(): weight for key, weight in feature_weights}\n",
    "\n",
    "    # Identify which columns in feature_weights exist in the DataFrame after normalization.\n",
    "    valid_columns = []\n",
    "    for col, weight in normalized_feature_weights.items():\n",
    "        if col in normalized_df_columns:\n",
    "            valid_columns.append((normalized_df_columns[col], weight))\n",
    "        else:\n",
    "            logging.warning(f\"Column '{col}' (after normalization) not found in the DataFrame and will be skipped.\")\n",
    "\n",
    "    # If no valid columns are found, log an overall warning and return the original DataFrame unmodified.\n",
    "    if not valid_columns:\n",
    "        logging.warning(\"No valid columns from feature_weights were found in the DataFrame. Returning original DataFrame.\")\n",
    "        return df\n",
    "\n",
    "    # Compute the weighted sum expression using valid columns.\n",
    "    sum_expr = sum(pl.col(col) * weight for col, weight in valid_columns)\n",
    "\n",
    "    # Add the result as a new column to the DataFrame under 'Fuel_Poverty_Score'.\n",
    "    df = df.with_columns(\n",
    "        sum_expr.alias(feature_name)\n",
    "    )\n",
    "\n",
    "    return df"
   ]
  },
  {
   "cell_type": "markdown",
   "metadata": {},
   "source": [
    "**Process the Data into CSV**"
   ]
  },
  {
   "cell_type": "code",
   "execution_count": 21,
   "metadata": {},
   "outputs": [],
   "source": [
    "def process_data():\n",
    "    # Load data (replace with your actual data loading code)\n",
    "    df = pl.read_csv('all_final_data_2011.csv')\n",
    "    \n",
    "    # Your provided feature weights - make sure these match column names in dataframe\n",
    "    feature_weights_heating = [\n",
    "        ('Gas', 0.20536100302637267),\n",
    "        ('No central heating', 0.19368785127539992),\n",
    "        ('Electric', 0.19368785127539992),\n",
    "        ('Two or more types', 0.1543450064850843),\n",
    "        ('Other including communal and renewable', 0.13359273670557717),\n",
    "        ('Oil', 0.0851707738867272),\n",
    "        ('Solid fuel', 0.03415477734543882)\n",
    "    ]\n",
    "\n",
    "    feature_weights_ownership = [('Owned outright', 0.1624659400544959), ('Rented from Local Authority', 0.1624659400544959), ('Owned with a mortgage or loan', 0.14134877384196184), ('Other social rented', 0.1273841961852861), ('Private landlord or letting agency', 0.1273841961852861), ('Shared ownership', 0.10047683923705722), ('Rent free', 0.09366485013623978), ('Other private rented', 0.08480926430517712)]\n",
    "\n",
    "    feature_name_heating = \"Heating Score\"\n",
    "    \n",
    "    # Calculate scores\n",
    "    df = calculate_weighted_score(df, feature_weights_heating, feature_name_heating)\n",
    "\n",
    "    feature_name_ownership = \"Ownership Score\"\n",
    "\n",
    "    df = calculate_weighted_score(df, feature_weights_ownership, feature_name_ownership)\n",
    "    \n",
    "    return df"
   ]
  },
  {
   "cell_type": "markdown",
   "metadata": {},
   "source": [
    "**Drop Unrelevant Column**"
   ]
  },
  {
   "cell_type": "code",
   "execution_count": 22,
   "metadata": {},
   "outputs": [
    {
     "name": "stdout",
     "output_type": "stream",
     "text": [
      "Columns before normalization and dropping: ['LSOA', 'Mean_Household_Income', 'Energy Efficiency', 'Fuel Poverty', 'No central heating', 'Gas ', 'Electric', 'Oil ', 'Solid fuel', 'Other including communal and renewable ', 'Two or more types ', '1 bedroom', '2 bedrooms', '3 bedrooms', '4 or more bedrooms', 'Owned outright', 'Owned with a mortgage or loan', 'Shared ownership ', 'Rented from Local Authority', 'Other social rented', 'Private landlord or letting agency', 'Other private rented', 'Rent free', 'Year_built', 'Heating Score', 'Ownership Score']\n",
      "Columns after dropping: ['lsoa', 'mean_household_income', 'energy efficiency', 'fuel poverty', 'year_built', 'heating score', 'ownership score']\n"
     ]
    }
   ],
   "source": [
    "# Step 1: Process data to generate the initial DataFrame\n",
    "df = process_data()  # replace this with your data processing logic\n",
    "\n",
    "# Step 2: Check initial columns\n",
    "print(\"Columns before normalization and dropping:\", df.columns)\n",
    "\n",
    "# Step 3: Normalize column names in the DataFrame (case-insensitive comparison)\n",
    "df = df.rename({col: col.strip().lower() for col in df.columns})\n",
    "\n",
    "# Step 4: Normalize the columns_to_drop list\n",
    "columns_to_drop = [\n",
    "    col.strip().lower() for col in [\n",
    "        'No central heating', 'Gas', 'Electric', 'Oil', 'Solid fuel',\n",
    "        'Other including communal and renewable', 'Two or more types',\n",
    "        '1 bedroom', '2 bedrooms', '3 bedrooms', '4 or more bedrooms',\n",
    "        'Owned outright', 'Owned with a mortgage or loan', 'Shared ownership',\n",
    "        'Rented from Local Authority', 'Other social rented',\n",
    "        'Private landlord or letting agency', 'Other private rented',\n",
    "        'Rent free'\n",
    "    ]\n",
    "]\n",
    "\n",
    "# Step 5: Identify columns to drop based on actual DataFrame columns\n",
    "columns_to_drop = [col for col in columns_to_drop if col in df.columns]\n",
    "\n",
    "# Step 6: Drop the matching columns\n",
    "df = df.drop(columns_to_drop)\n",
    "\n",
    "# Step 7: Verify remaining columns\n",
    "print(\"Columns after dropping:\", df.columns)\n",
    "\n",
    "df.write_csv(\"output_with_scores.csv\")"
   ]
  }
 ],
 "metadata": {
  "kernelspec": {
   "display_name": "myenv",
   "language": "python",
   "name": "python3"
  },
  "language_info": {
   "codemirror_mode": {
    "name": "ipython",
    "version": 3
   },
   "file_extension": ".py",
   "mimetype": "text/x-python",
   "name": "python",
   "nbconvert_exporter": "python",
   "pygments_lexer": "ipython3",
   "version": "3.11.9"
  }
 },
 "nbformat": 4,
 "nbformat_minor": 2
}
